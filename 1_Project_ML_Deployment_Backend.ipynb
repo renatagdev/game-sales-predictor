{
  "nbformat": 4,
  "nbformat_minor": 0,
  "metadata": {
    "colab": {
      "provenance": []
    },
    "kernelspec": {
      "name": "python3",
      "display_name": "Python 3"
    },
    "language_info": {
      "name": "python"
    }
  },
  "cells": [
    {
      "cell_type": "code",
      "execution_count": null,
      "metadata": {
        "id": "rtmZ75bWMBG-",
        "colab": {
          "base_uri": "https://localhost:8080/"
        },
        "outputId": "5b1faf33-9b59-471b-bdf9-fe5105629b00"
      },
      "outputs": [
        {
          "output_type": "stream",
          "name": "stdout",
          "text": [
            "Mounted at /content/drive\n"
          ]
        }
      ],
      "source": [
        "from google.colab import drive\n",
        "drive.mount('/content/drive', force_remount=True)"
      ]
    },
    {
      "cell_type": "code",
      "source": [
        "import pandas as pd\n",
        "import joblib\n",
        "import pickle\n",
        "\n",
        "# 1) Paths – adjust if needed\n",
        "FEATURE_MAPS_PATH = \"/content/drive/MyDrive/Project 1. Video Game Sales Analysis/feature_maps.pkl\"\n",
        "MODEL_PATH = \"/content/drive/MyDrive/Project 1. Video Game Sales Analysis/lightgbm_sales_classifier.pkl\"\n",
        "\n",
        "# 2) Load feature maps\n",
        "feature_maps = joblib.load(FEATURE_MAPS_PATH)\n",
        "\n",
        "# 3) Load LightGBM model and metadata\n",
        "with open(MODEL_PATH, \"rb\") as f:\n",
        "    artifact = pickle.load(f)\n",
        "\n",
        "model = artifact[\"model\"]\n",
        "features = artifact[\"features\"]\n",
        "label_mapping = artifact[\"label_mapping\"]\n",
        "best_threshold = artifact[\"best_threshold\"]\n",
        "\n",
        "# 4) Helper function to prepare input features\n",
        "def prepare_features(platform, genre, publisher, feature_maps):\n",
        "    row = {\n",
        "        'Platform': platform,\n",
        "        'Genre': genre,\n",
        "        'Publisher': publisher,\n",
        "        'Publisher_avg_sales': feature_maps['publisher_avg_sales_map'].get(publisher, 0),\n",
        "        'Genre_avg_sales': feature_maps['genre_avg_sales_map'].get(genre, 0),\n",
        "        'Platform_avg_sales': feature_maps['platform_avg_sales_map'].get(platform, 0),\n",
        "        'Platform_Genre': f\"{platform}_{genre}\",\n",
        "        'Platform_Publisher': f\"{platform}_{publisher}\",\n",
        "        'Genre_Publisher': f\"{genre}_{publisher}\",\n",
        "        'Publisher_rank': feature_maps['publisher_rank_map'].get(publisher, 0),\n",
        "        'Genre_rank': feature_maps['genre_rank_map'].get(genre, 0),\n",
        "        'Platform_rank': feature_maps['platform_rank_map'].get(platform, 0),\n",
        "    }\n",
        "    df = pd.DataFrame([row])\n",
        "    # Convert all object columns to categorical dtype (same as in training)\n",
        "    for col in df.select_dtypes(include='object').columns:\n",
        "        df[col] = df[col].astype('category')\n",
        "    return df[features]\n",
        "\n",
        "# 5) Test example\n",
        "test_df = prepare_features(\n",
        "    platform=\"Wii\",\n",
        "    genre=\"Sports\",\n",
        "    publisher=\"Nintendo\",\n",
        "    feature_maps=feature_maps\n",
        ")\n",
        "\n",
        "print(\"Input row going into the model:\")\n",
        "print(test_df)\n",
        "\n",
        "# 6) Make prediction using LightGBM model\n",
        "prob = model.predict_proba(test_df)[:, 1][0]  # probability of being \"good\"\n",
        "pred_label = int(prob >= best_threshold)\n",
        "\n",
        "# Reverse label mapping: 0 → bad, 1 → good\n",
        "inv_label_mapping = {v: k for k, v in label_mapping.items()}\n",
        "pred_name = inv_label_mapping[pred_label]\n",
        "\n",
        "print(f\"\\nPredicted probability for 'good' = {prob:.3f}\")\n",
        "print(f\"Applied threshold = {best_threshold:.2f}\")\n",
        "print(f\"Final prediction: {pred_name.upper()}\")\n"
      ],
      "metadata": {
        "colab": {
          "base_uri": "https://localhost:8080/"
        },
        "id": "oGcc5clBMopX",
        "outputId": "4ea08468-d654-4adc-c966-9236d6ffea87"
      },
      "execution_count": null,
      "outputs": [
        {
          "output_type": "stream",
          "name": "stdout",
          "text": [
            "Input row going into the model:\n",
            "  Platform   Genre Publisher  Publisher_avg_sales  Genre_avg_sales  \\\n",
            "0      Wii  Sports  Nintendo             2.563836         0.568247   \n",
            "\n",
            "   Platform_avg_sales Platform_Genre Platform_Publisher  Genre_Publisher  \\\n",
            "0            0.705279     Wii_Sports       Wii_Nintendo  Sports_Nintendo   \n",
            "\n",
            "   Publisher_rank  Genre_rank  Platform_rank  \n",
            "0           351.5      6004.5         4096.5  \n",
            "\n",
            "Predicted probability for 'good' = 0.881\n",
            "Applied threshold = 0.28\n",
            "Final prediction: GOOD\n"
          ]
        }
      ]
    }
  ]
}